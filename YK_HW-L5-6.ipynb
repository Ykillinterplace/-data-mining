{
 "cells": [
  {
   "cell_type": "code",
   "execution_count": 98,
   "metadata": {},
   "outputs": [],
   "source": [
    "import pandas as pd\n",
    "import numpy as np"
   ]
  },
  {
   "cell_type": "code",
   "execution_count": 99,
   "metadata": {},
   "outputs": [],
   "source": [
    "from sklearn.model_selection import KFold, StratifiedKFold"
   ]
  },
  {
   "cell_type": "code",
   "execution_count": 100,
   "metadata": {},
   "outputs": [],
   "source": [
    "# https://www.kaggle.com/becksddf/churn-in-telecoms-dataset\n",
    "df = pd.read_csv(r'C:\\Python\\Ykill\\DataScinese\\data\\telecom_churn.csv')"
   ]
  },
  {
   "cell_type": "code",
   "execution_count": 101,
   "metadata": {},
   "outputs": [],
   "source": [
    "y = df[\"Churn\"].astype(int)"
   ]
  },
  {
   "cell_type": "code",
   "execution_count": 102,
   "metadata": {},
   "outputs": [],
   "source": [
    "X = df.drop(columns=['Churn', 'Area code'])"
   ]
  },
  {
   "cell_type": "code",
   "execution_count": 103,
   "metadata": {},
   "outputs": [],
   "source": [
    "X = X.select_dtypes(np.number)"
   ]
  },
  {
   "cell_type": "code",
   "execution_count": 104,
   "metadata": {},
   "outputs": [
    {
     "data": {
      "text/plain": [
       "0    2850\n",
       "1     483\n",
       "Name: Churn, dtype: int64"
      ]
     },
     "execution_count": 104,
     "metadata": {},
     "output_type": "execute_result"
    }
   ],
   "source": [
    "y.value_counts()"
   ]
  },
  {
   "cell_type": "markdown",
   "metadata": {},
   "source": [
    "## Task 1\n",
    "\n",
    "Убедиться, что StratifiedKFold в отличии от KFold сохраняет соотношение классов. (Дописать код, вывести таблицы/графики соотношения для KFold и StratifiedKFold). Привести случай, когда KFold будет работать очень плохо"
   ]
  },
  {
   "cell_type": "code",
   "execution_count": 160,
   "metadata": {
    "scrolled": true
   },
   "outputs": [
    {
     "name": "stdout",
     "output_type": "stream",
     "text": [
      "KFold\n",
      "{0: 2124, 1: 375}\n",
      "{0: 2120, 1: 380}\n",
      "{0: 2153, 1: 347}\n",
      "{0: 2153, 1: 347}\n",
      "StratifiedKFold\n",
      "{0: 2153, 1: 347}\n",
      "{0: 2153, 1: 347}\n",
      "{0: 2153, 1: 347}\n",
      "{0: 2153, 1: 347}\n"
     ]
    }
   ],
   "source": [
    "import numpy as np\n",
    "from sklearn.model_selection import KFold, StratifiedKFold\n",
    "\n",
    "n = 4\n",
    "\n",
    "kf = KFold(n_splits=n)\n",
    "skf = StratifiedKFold(n_splits=n)\n",
    "\n",
    "print('KFold')\n",
    "for train_index, test_index in kf.split(X):\n",
    "    kf_y = y.iloc[train_index].value_counts()\n",
    "    print(kf_y.to_dict())\n",
    "\n",
    "print('StratifiedKFold')\n",
    "for train_index, test_index in skf.split(X,y):\n",
    "    skf_y = y.iloc[train_index].value_counts()\n",
    "    print(kf_y.to_dict())"
   ]
  },
  {
   "cell_type": "code",
   "execution_count": 217,
   "metadata": {},
   "outputs": [],
   "source": [
    "import matplotlib.pyplot as plt\n",
    "cmap_data = plt.cm.Paired\n",
    "cmap_cv = plt.cm.coolwarm"
   ]
  },
  {
   "cell_type": "code",
   "execution_count": 226,
   "metadata": {},
   "outputs": [],
   "source": [
    "def plot_cv_indices(cv, X, y, ax, n):\n",
    "    \"\"\"Create a sample plot for indices of a cross-validation object.\"\"\"\n",
    "    classes = y\n",
    "    cmap_data = plt.cm.Paired\n",
    "    cmap_cv = plt.cm.coolwarm\n",
    "    \n",
    "    for ii, (tr, tt) in enumerate(cv.split(X, y)):\n",
    "        indices = np.array([np.nan] * len(X))\n",
    "        indices[tt] = 1\n",
    "        indices[tr] = 0\n",
    "\n",
    "        ax.scatter(range(len(indices)), \n",
    "                   [ii + .5] * len(indices),\n",
    "                   c=indices, \n",
    "                   marker='_', \n",
    "                   lw=20, \n",
    "                   cmap=cmap_cv,\n",
    "                   vmin=-.2, vmax=1.2)\n",
    "    \n",
    "    ax.scatter(range(len(classes)),  \n",
    "               [4.5] * len(classes), \n",
    "               c=classes, \n",
    "               marker='_', \n",
    "               lw=20, \n",
    "               cmap=cmap_data)\n",
    "\n",
    "    yticklabels = list(range(n)) + ['class']\n",
    "\n",
    "    ax.set(yticks=np.arange(n+2) + .5, \n",
    "           yticklabels=yticklabels,\n",
    "           xlabel='Sample index', \n",
    "           ylabel=\"CV iteration\",\n",
    "           ylim=[n+1.2, -.2])\n",
    "    \n",
    "    ax.set_title('{}'.format(type(cv).__name__), fontsize=20);\n",
    "    \n",
    "    return ax"
   ]
  },
  {
   "cell_type": "code",
   "execution_count": 228,
   "metadata": {},
   "outputs": [
    {
     "data": {
      "image/png": "[encoded data removed]",
      "text/plain": [
       "<Figure size 432x288 with 1 Axes>"
      ]
     },
     "metadata": {
      "needs_background": "light"
     },
     "output_type": "display_data"
    }
   ],
   "source": [
    "fig, ax = plt.subplots()\n",
    "plot_cv_indices(kf, X, y, ax, n);"
   ]
  },
  {
   "cell_type": "code",
   "execution_count": 229,
   "metadata": {
    "scrolled": true
   },
   "outputs": [
    {
     "data": {
      "image/png": "[encoded data removed]",
      "text/plain": [
       "<Figure size 432x288 with 1 Axes>"
      ]
     },
     "metadata": {
      "needs_background": "light"
     },
     "output_type": "display_data"
    }
   ],
   "source": [
    "fig, ax = plt.subplots()\n",
    "plot_cv_indices(skf, X, y, ax, n);"
   ]
  },
  {
   "cell_type": "markdown",
   "metadata": {},
   "source": [
    "модель данных, в которых методу __KFold__ следует отдать предпочтение __StratifiedKFold__"
   ]
  },
  {
   "cell_type": "code",
   "execution_count": 250,
   "metadata": {
    "scrolled": true
   },
   "outputs": [],
   "source": [
    "df_sort = df.sort_values('Churn')"
   ]
  },
  {
   "cell_type": "code",
   "execution_count": 251,
   "metadata": {},
   "outputs": [],
   "source": [
    "y_sort = df_sort[\"Churn\"].astype(int)\n",
    "X_sort = df_sort.drop(columns=['Churn', 'Area code']).select_dtypes(np.number)"
   ]
  },
  {
   "cell_type": "code",
   "execution_count": 252,
   "metadata": {},
   "outputs": [
    {
     "data": {
      "image/png": "[encoded data removed]",
      "text/plain": [
       "<Figure size 432x288 with 1 Axes>"
      ]
     },
     "metadata": {
      "needs_background": "light"
     },
     "output_type": "display_data"
    }
   ],
   "source": [
    "fig, ax = plt.subplots()\n",
    "plot_cv_indices(kf, X_sort, y_sort, ax, n);"
   ]
  },
  {
   "cell_type": "code",
   "execution_count": 253,
   "metadata": {},
   "outputs": [
    {
     "data": {
      "image/png": "[encoded data removed]",
      "text/plain": [
       "<Figure size 432x288 with 1 Axes>"
      ]
     },
     "metadata": {
      "needs_background": "light"
     },
     "output_type": "display_data"
    }
   ],
   "source": [
    "fig, ax = plt.subplots()\n",
    "plot_cv_indices(skf, X_sort, y_sort, ax, n);"
   ]
  },
  {
   "cell_type": "markdown",
   "metadata": {},
   "source": [
    "## Task 2\n",
    "Написать функцию, которая будет находить наилучшее разбиение(по индексу). \n",
    "\n",
    "Вход: для листа с целочисленными значениями inp = [0, 1, 0, 0, 1, 1, 1, 0] . <br>\n",
    "Выход: индекс, по которому наиболее оптимально разбить выборку. <br>\n",
    "\n",
    "(Применить энтропию Шеннона)"
   ]
  },
  {
   "cell_type": "code",
   "execution_count": 436,
   "metadata": {},
   "outputs": [],
   "source": [
    "import numpy as np\n",
    "import math\n",
    "from collections import Counter\n",
    "\n",
    "# Shannon Entropy\n",
    "def sh_entropy(arr):\n",
    "    Ni = np.unique(arr, return_counts=True)[1][0]\n",
    "    Nj = np.unique(arr, return_counts=True)[1][1]\n",
    "#     print(Ni,'||',Nj)\n",
    "    N = arr.size\n",
    "    pi = Ni/N\n",
    "    pj = Nj/N\n",
    "    result = - (pi * math.log(pi)) - (pj * math.log(pj)) # math.log(X,[база]) без базы = Ln(X)\n",
    "    return round(result, 3)"
   ]
  },
  {
   "cell_type": "code",
   "execution_count": 456,
   "metadata": {},
   "outputs": [],
   "source": [
    "# ipn = [0, 1, 0, 0, 1, 1, 1, 0]\n",
    "ipn = [1, 0, 1, 1, 0, 0, 1] "
   ]
  },
  {
   "cell_type": "code",
   "execution_count": 458,
   "metadata": {},
   "outputs": [
    {
     "name": "stdout",
     "output_type": "stream",
     "text": [
      "При индексе 4 оптимальное разбиение списка с энтропиями 0.637 и 0.562\n"
     ]
    }
   ],
   "source": [
    "a = np.array(ipn)\n",
    "full_entr = sh_entropy(a)\n",
    "nn = 1\n",
    "d = [full_entr, full_entr]\n",
    "\n",
    "while nn < a.size:\n",
    "    a1 = a[nn:]\n",
    "    a2 = a[:nn]\n",
    "    \n",
    "    if len(np.unique(a1)) == 2 & len(np.unique(a2)) == 2:\n",
    "        sh1 = sh_entropy(a1)\n",
    "        sh2 = sh_entropy(a2)\n",
    "        \n",
    "        if (sh1 < d[0]) & (sh2 < d[1]):\n",
    "            d = [sh1, sh2]\n",
    "            idx = nn\n",
    "    nn+=1\n",
    "\n",
    "print(f'При индексе {idx} оптимальное разбиение списка с энтропиями {d[0]} и {d[1]}')"
   ]
  },
  {
   "cell_type": "markdown",
   "metadata": {},
   "source": [
    "## Task 3\n",
    "\n",
    "применить свежеизученные алгоритмы (Дерево Решений, Случайный Лес, XGBoost) для задачи регрессии (оценка недвижимости https://www.kaggle.com/harlfoxem/housesalesprediction). Решение по данной задаче слать отдельным ноутбуком\n"
   ]
  },
  {
   "cell_type": "code",
   "execution_count": null,
   "metadata": {},
   "outputs": [],
   "source": []
  }
 ],
 "metadata": {
  "kernelspec": {
   "display_name": "Python 3",
   "language": "python",
   "name": "python3"
  },
  "language_info": {
   "codemirror_mode": {
    "name": "ipython",
    "version": 3
   },
   "file_extension": ".py",
   "mimetype": "text/x-python",
   "name": "python",
   "nbconvert_exporter": "python",
   "pygments_lexer": "ipython3",
   "version": "3.7.3"
  }
 },
 "nbformat": 4,
 "nbformat_minor": 2
}
