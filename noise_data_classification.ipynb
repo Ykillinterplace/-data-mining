{
 "cells": [
  {
   "cell_type": "markdown",
   "metadata": {},
   "source": [
    "### Исследование алгоритмов классификации на шуме"
   ]
  },
  {
   "cell_type": "markdown",
   "metadata": {
    "scrolled": true
   },
   "source": [
    "### Create dataset"
   ]
  },
  {
   "cell_type": "code",
   "execution_count": 1,
   "metadata": {},
   "outputs": [],
   "source": [
    "import pandas as pd\n",
    "import numpy as np"
   ]
  },
  {
   "cell_type": "code",
   "execution_count": 2,
   "metadata": {},
   "outputs": [],
   "source": [
    "clmn = ('c' + str(x) for x in range(50))\n",
    "data = np.random.rand(1001,51)\n",
    "X = pd.DataFrame(data=data[1:,1:], index=range(1000), columns=clmn)"
   ]
  },
  {
   "cell_type": "code",
   "execution_count": 3,
   "metadata": {},
   "outputs": [
    {
     "data": {
      "text/html": [
       "<div>\n",
       "<style scoped>\n",
       "    .dataframe tbody tr th:only-of-type {\n",
       "        vertical-align: middle;\n",
       "    }\n",
       "\n",
       "    .dataframe tbody tr th {\n",
       "        vertical-align: top;\n",
       "    }\n",
       "\n",
       "    .dataframe thead th {\n",
       "        text-align: right;\n",
       "    }\n",
       "</style>\n",
       "<table border=\"1\" class=\"dataframe\">\n",
       "  <thead>\n",
       "    <tr style=\"text-align: right;\">\n",
       "      <th></th>\n",
       "      <th>c0</th>\n",
       "      <th>c1</th>\n",
       "      <th>c2</th>\n",
       "      <th>c3</th>\n",
       "      <th>c4</th>\n",
       "      <th>c5</th>\n",
       "      <th>c6</th>\n",
       "      <th>c7</th>\n",
       "      <th>c8</th>\n",
       "      <th>c9</th>\n",
       "      <th>...</th>\n",
       "      <th>c40</th>\n",
       "      <th>c41</th>\n",
       "      <th>c42</th>\n",
       "      <th>c43</th>\n",
       "      <th>c44</th>\n",
       "      <th>c45</th>\n",
       "      <th>c46</th>\n",
       "      <th>c47</th>\n",
       "      <th>c48</th>\n",
       "      <th>c49</th>\n",
       "    </tr>\n",
       "  </thead>\n",
       "  <tbody>\n",
       "    <tr>\n",
       "      <td>count</td>\n",
       "      <td>1000.000000</td>\n",
       "      <td>1000.000000</td>\n",
       "      <td>1000.000000</td>\n",
       "      <td>1000.000000</td>\n",
       "      <td>1000.000000</td>\n",
       "      <td>1000.000000</td>\n",
       "      <td>1000.000000</td>\n",
       "      <td>1000.000000</td>\n",
       "      <td>1000.000000</td>\n",
       "      <td>1000.000000</td>\n",
       "      <td>...</td>\n",
       "      <td>1000.000000</td>\n",
       "      <td>1000.000000</td>\n",
       "      <td>1000.000000</td>\n",
       "      <td>1000.000000</td>\n",
       "      <td>1000.000000</td>\n",
       "      <td>1000.000000</td>\n",
       "      <td>1000.000000</td>\n",
       "      <td>1000.000000</td>\n",
       "      <td>1000.000000</td>\n",
       "      <td>1000.000000</td>\n",
       "    </tr>\n",
       "    <tr>\n",
       "      <td>mean</td>\n",
       "      <td>0.495159</td>\n",
       "      <td>0.507739</td>\n",
       "      <td>0.489919</td>\n",
       "      <td>0.493342</td>\n",
       "      <td>0.503475</td>\n",
       "      <td>0.480637</td>\n",
       "      <td>0.506286</td>\n",
       "      <td>0.486152</td>\n",
       "      <td>0.499659</td>\n",
       "      <td>0.492897</td>\n",
       "      <td>...</td>\n",
       "      <td>0.501214</td>\n",
       "      <td>0.497883</td>\n",
       "      <td>0.503219</td>\n",
       "      <td>0.487789</td>\n",
       "      <td>0.511463</td>\n",
       "      <td>0.513544</td>\n",
       "      <td>0.498594</td>\n",
       "      <td>0.490249</td>\n",
       "      <td>0.507802</td>\n",
       "      <td>0.495058</td>\n",
       "    </tr>\n",
       "    <tr>\n",
       "      <td>std</td>\n",
       "      <td>0.290440</td>\n",
       "      <td>0.289173</td>\n",
       "      <td>0.286056</td>\n",
       "      <td>0.290650</td>\n",
       "      <td>0.293575</td>\n",
       "      <td>0.295887</td>\n",
       "      <td>0.296671</td>\n",
       "      <td>0.285386</td>\n",
       "      <td>0.295611</td>\n",
       "      <td>0.287114</td>\n",
       "      <td>...</td>\n",
       "      <td>0.291491</td>\n",
       "      <td>0.288385</td>\n",
       "      <td>0.295124</td>\n",
       "      <td>0.287585</td>\n",
       "      <td>0.289146</td>\n",
       "      <td>0.287231</td>\n",
       "      <td>0.290432</td>\n",
       "      <td>0.286008</td>\n",
       "      <td>0.285329</td>\n",
       "      <td>0.296564</td>\n",
       "    </tr>\n",
       "    <tr>\n",
       "      <td>min</td>\n",
       "      <td>0.000233</td>\n",
       "      <td>0.003092</td>\n",
       "      <td>0.002679</td>\n",
       "      <td>0.000489</td>\n",
       "      <td>0.000605</td>\n",
       "      <td>0.001164</td>\n",
       "      <td>0.000596</td>\n",
       "      <td>0.000223</td>\n",
       "      <td>0.002428</td>\n",
       "      <td>0.001945</td>\n",
       "      <td>...</td>\n",
       "      <td>0.000175</td>\n",
       "      <td>0.000137</td>\n",
       "      <td>0.001944</td>\n",
       "      <td>0.000446</td>\n",
       "      <td>0.000915</td>\n",
       "      <td>0.000275</td>\n",
       "      <td>0.001451</td>\n",
       "      <td>0.001995</td>\n",
       "      <td>0.000914</td>\n",
       "      <td>0.000223</td>\n",
       "    </tr>\n",
       "    <tr>\n",
       "      <td>25%</td>\n",
       "      <td>0.250223</td>\n",
       "      <td>0.261941</td>\n",
       "      <td>0.235696</td>\n",
       "      <td>0.236084</td>\n",
       "      <td>0.248887</td>\n",
       "      <td>0.212959</td>\n",
       "      <td>0.237196</td>\n",
       "      <td>0.241563</td>\n",
       "      <td>0.233493</td>\n",
       "      <td>0.239726</td>\n",
       "      <td>...</td>\n",
       "      <td>0.235009</td>\n",
       "      <td>0.247863</td>\n",
       "      <td>0.258051</td>\n",
       "      <td>0.237096</td>\n",
       "      <td>0.259977</td>\n",
       "      <td>0.276323</td>\n",
       "      <td>0.247438</td>\n",
       "      <td>0.234642</td>\n",
       "      <td>0.258781</td>\n",
       "      <td>0.238314</td>\n",
       "    </tr>\n",
       "    <tr>\n",
       "      <td>50%</td>\n",
       "      <td>0.485482</td>\n",
       "      <td>0.513715</td>\n",
       "      <td>0.495841</td>\n",
       "      <td>0.491392</td>\n",
       "      <td>0.495361</td>\n",
       "      <td>0.465150</td>\n",
       "      <td>0.506460</td>\n",
       "      <td>0.483935</td>\n",
       "      <td>0.497596</td>\n",
       "      <td>0.488875</td>\n",
       "      <td>...</td>\n",
       "      <td>0.508663</td>\n",
       "      <td>0.493127</td>\n",
       "      <td>0.494876</td>\n",
       "      <td>0.479087</td>\n",
       "      <td>0.518122</td>\n",
       "      <td>0.528033</td>\n",
       "      <td>0.489634</td>\n",
       "      <td>0.504559</td>\n",
       "      <td>0.517722</td>\n",
       "      <td>0.498396</td>\n",
       "    </tr>\n",
       "    <tr>\n",
       "      <td>75%</td>\n",
       "      <td>0.749099</td>\n",
       "      <td>0.762160</td>\n",
       "      <td>0.728934</td>\n",
       "      <td>0.751391</td>\n",
       "      <td>0.771148</td>\n",
       "      <td>0.741390</td>\n",
       "      <td>0.764461</td>\n",
       "      <td>0.735670</td>\n",
       "      <td>0.759545</td>\n",
       "      <td>0.740724</td>\n",
       "      <td>...</td>\n",
       "      <td>0.756669</td>\n",
       "      <td>0.763647</td>\n",
       "      <td>0.767173</td>\n",
       "      <td>0.736789</td>\n",
       "      <td>0.759268</td>\n",
       "      <td>0.756505</td>\n",
       "      <td>0.771072</td>\n",
       "      <td>0.726292</td>\n",
       "      <td>0.746002</td>\n",
       "      <td>0.748635</td>\n",
       "    </tr>\n",
       "    <tr>\n",
       "      <td>max</td>\n",
       "      <td>0.998825</td>\n",
       "      <td>0.999520</td>\n",
       "      <td>0.997742</td>\n",
       "      <td>0.995178</td>\n",
       "      <td>0.998832</td>\n",
       "      <td>0.998708</td>\n",
       "      <td>0.999891</td>\n",
       "      <td>0.999170</td>\n",
       "      <td>0.999281</td>\n",
       "      <td>0.999649</td>\n",
       "      <td>...</td>\n",
       "      <td>0.998753</td>\n",
       "      <td>0.998678</td>\n",
       "      <td>0.997524</td>\n",
       "      <td>0.999769</td>\n",
       "      <td>0.999439</td>\n",
       "      <td>0.997923</td>\n",
       "      <td>0.997852</td>\n",
       "      <td>0.999478</td>\n",
       "      <td>0.999831</td>\n",
       "      <td>0.999059</td>\n",
       "    </tr>\n",
       "  </tbody>\n",
       "</table>\n",
       "<p>8 rows × 50 columns</p>\n",
       "</div>"
      ],
      "text/plain": [
       "                c0           c1           c2           c3           c4  \\\n",
       "count  1000.000000  1000.000000  1000.000000  1000.000000  1000.000000   \n",
       "mean      0.495159     0.507739     0.489919     0.493342     0.503475   \n",
       "std       0.290440     0.289173     0.286056     0.290650     0.293575   \n",
       "min       0.000233     0.003092     0.002679     0.000489     0.000605   \n",
       "25%       0.250223     0.261941     0.235696     0.236084     0.248887   \n",
       "50%       0.485482     0.513715     0.495841     0.491392     0.495361   \n",
       "75%       0.749099     0.762160     0.728934     0.751391     0.771148   \n",
       "max       0.998825     0.999520     0.997742     0.995178     0.998832   \n",
       "\n",
       "                c5           c6           c7           c8           c9  ...  \\\n",
       "count  1000.000000  1000.000000  1000.000000  1000.000000  1000.000000  ...   \n",
       "mean      0.480637     0.506286     0.486152     0.499659     0.492897  ...   \n",
       "std       0.295887     0.296671     0.285386     0.295611     0.287114  ...   \n",
       "min       0.001164     0.000596     0.000223     0.002428     0.001945  ...   \n",
       "25%       0.212959     0.237196     0.241563     0.233493     0.239726  ...   \n",
       "50%       0.465150     0.506460     0.483935     0.497596     0.488875  ...   \n",
       "75%       0.741390     0.764461     0.735670     0.759545     0.740724  ...   \n",
       "max       0.998708     0.999891     0.999170     0.999281     0.999649  ...   \n",
       "\n",
       "               c40          c41          c42          c43          c44  \\\n",
       "count  1000.000000  1000.000000  1000.000000  1000.000000  1000.000000   \n",
       "mean      0.501214     0.497883     0.503219     0.487789     0.511463   \n",
       "std       0.291491     0.288385     0.295124     0.287585     0.289146   \n",
       "min       0.000175     0.000137     0.001944     0.000446     0.000915   \n",
       "25%       0.235009     0.247863     0.258051     0.237096     0.259977   \n",
       "50%       0.508663     0.493127     0.494876     0.479087     0.518122   \n",
       "75%       0.756669     0.763647     0.767173     0.736789     0.759268   \n",
       "max       0.998753     0.998678     0.997524     0.999769     0.999439   \n",
       "\n",
       "               c45          c46          c47          c48          c49  \n",
       "count  1000.000000  1000.000000  1000.000000  1000.000000  1000.000000  \n",
       "mean      0.513544     0.498594     0.490249     0.507802     0.495058  \n",
       "std       0.287231     0.290432     0.286008     0.285329     0.296564  \n",
       "min       0.000275     0.001451     0.001995     0.000914     0.000223  \n",
       "25%       0.276323     0.247438     0.234642     0.258781     0.238314  \n",
       "50%       0.528033     0.489634     0.504559     0.517722     0.498396  \n",
       "75%       0.756505     0.771072     0.726292     0.746002     0.748635  \n",
       "max       0.997923     0.997852     0.999478     0.999831     0.999059  \n",
       "\n",
       "[8 rows x 50 columns]"
      ]
     },
     "execution_count": 3,
     "metadata": {},
     "output_type": "execute_result"
    }
   ],
   "source": [
    "X.describe()"
   ]
  },
  {
   "cell_type": "code",
   "execution_count": 4,
   "metadata": {},
   "outputs": [],
   "source": [
    "y = np.random.randint(low = 0, high = 2, size =(1000,))"
   ]
  },
  {
   "cell_type": "code",
   "execution_count": 5,
   "metadata": {},
   "outputs": [
    {
     "name": "stdout",
     "output_type": "stream",
     "text": [
      "0 >> 522\n",
      "1 >> 478\n"
     ]
    }
   ],
   "source": [
    "unique, counts = np.unique(y, return_counts=True)\n",
    "print(f'{unique[0]} >> {counts[0]}')\n",
    "print(f'{unique[1]} >> {counts[1]}')"
   ]
  },
  {
   "cell_type": "markdown",
   "metadata": {},
   "source": [
    "### Train-test split"
   ]
  },
  {
   "cell_type": "code",
   "execution_count": 6,
   "metadata": {},
   "outputs": [],
   "source": [
    "from sklearn.model_selection import train_test_split\n",
    "X_train, X_test, y_train, y_test = train_test_split(X, y, stratify=y, random_state=1)"
   ]
  },
  {
   "cell_type": "markdown",
   "metadata": {},
   "source": [
    "## Train and evaluate"
   ]
  },
  {
   "cell_type": "code",
   "execution_count": 7,
   "metadata": {},
   "outputs": [],
   "source": [
    "from xgboost import XGBClassifier\n",
    "from sklearn.tree import DecisionTreeClassifier\n",
    "from sklearn.ensemble import RandomForestClassifier\n",
    "from sklearn.ensemble import BaggingClassifier\n",
    "from sklearn.svm import SVC\n",
    "from sklearn.neighbors import KNeighborsClassifier"
   ]
  },
  {
   "cell_type": "code",
   "execution_count": 8,
   "metadata": {},
   "outputs": [],
   "source": [
    "# clf = DecisionTreeClassifier()\n",
    "# clf = BaggingClassifier(base_estimator=DecisionTreeClassifier(), n_estimators=10, max_features=.5)\n",
    "# clf = RandomForestClassifier(n_estimators=100, random_state=1)\n",
    "# clf = XGBClassifier()\n",
    "# clf = SVC()\n",
    "# clf = KNeighborsClassifier()"
   ]
  },
  {
   "cell_type": "code",
   "execution_count": 9,
   "metadata": {},
   "outputs": [
    {
     "name": "stdout",
     "output_type": "stream",
     "text": [
      "[0]\tvalidation_0-error:0.398667\tvalidation_1-error:0.552\n",
      "[1]\tvalidation_0-error:0.378667\tvalidation_1-error:0.536\n",
      "[2]\tvalidation_0-error:0.38\tvalidation_1-error:0.536\n",
      "[3]\tvalidation_0-error:0.368\tvalidation_1-error:0.536\n",
      "[4]\tvalidation_0-error:0.344\tvalidation_1-error:0.564\n",
      "[5]\tvalidation_0-error:0.305333\tvalidation_1-error:0.52\n",
      "[6]\tvalidation_0-error:0.294667\tvalidation_1-error:0.528\n",
      "[7]\tvalidation_0-error:0.278667\tvalidation_1-error:0.516\n",
      "[8]\tvalidation_0-error:0.250667\tvalidation_1-error:0.496\n",
      "[9]\tvalidation_0-error:0.24\tvalidation_1-error:0.488\n",
      "[10]\tvalidation_0-error:0.230667\tvalidation_1-error:0.5\n",
      "[11]\tvalidation_0-error:0.214667\tvalidation_1-error:0.5\n",
      "[12]\tvalidation_0-error:0.22\tvalidation_1-error:0.512\n",
      "[13]\tvalidation_0-error:0.221333\tvalidation_1-error:0.516\n",
      "[14]\tvalidation_0-error:0.206667\tvalidation_1-error:0.516\n",
      "[15]\tvalidation_0-error:0.206667\tvalidation_1-error:0.528\n",
      "[16]\tvalidation_0-error:0.201333\tvalidation_1-error:0.512\n",
      "[17]\tvalidation_0-error:0.185333\tvalidation_1-error:0.524\n",
      "[18]\tvalidation_0-error:0.176\tvalidation_1-error:0.528\n",
      "[19]\tvalidation_0-error:0.177333\tvalidation_1-error:0.52\n",
      "[20]\tvalidation_0-error:0.182667\tvalidation_1-error:0.516\n",
      "[21]\tvalidation_0-error:0.184\tvalidation_1-error:0.5\n",
      "[22]\tvalidation_0-error:0.173333\tvalidation_1-error:0.504\n",
      "[23]\tvalidation_0-error:0.173333\tvalidation_1-error:0.524\n",
      "[24]\tvalidation_0-error:0.154667\tvalidation_1-error:0.52\n",
      "[25]\tvalidation_0-error:0.153333\tvalidation_1-error:0.516\n",
      "[26]\tvalidation_0-error:0.153333\tvalidation_1-error:0.528\n",
      "[27]\tvalidation_0-error:0.149333\tvalidation_1-error:0.516\n",
      "[28]\tvalidation_0-error:0.148\tvalidation_1-error:0.528\n",
      "[29]\tvalidation_0-error:0.146667\tvalidation_1-error:0.536\n",
      "[30]\tvalidation_0-error:0.142667\tvalidation_1-error:0.532\n",
      "[31]\tvalidation_0-error:0.14\tvalidation_1-error:0.508\n",
      "[32]\tvalidation_0-error:0.133333\tvalidation_1-error:0.52\n",
      "[33]\tvalidation_0-error:0.12\tvalidation_1-error:0.516\n",
      "[34]\tvalidation_0-error:0.110667\tvalidation_1-error:0.508\n",
      "[35]\tvalidation_0-error:0.112\tvalidation_1-error:0.508\n",
      "[36]\tvalidation_0-error:0.106667\tvalidation_1-error:0.52\n",
      "[37]\tvalidation_0-error:0.106667\tvalidation_1-error:0.532\n",
      "[38]\tvalidation_0-error:0.108\tvalidation_1-error:0.516\n",
      "[39]\tvalidation_0-error:0.106667\tvalidation_1-error:0.5\n",
      "[40]\tvalidation_0-error:0.102667\tvalidation_1-error:0.516\n",
      "[41]\tvalidation_0-error:0.098667\tvalidation_1-error:0.504\n",
      "[42]\tvalidation_0-error:0.1\tvalidation_1-error:0.508\n",
      "[43]\tvalidation_0-error:0.089333\tvalidation_1-error:0.52\n",
      "[44]\tvalidation_0-error:0.088\tvalidation_1-error:0.524\n",
      "[45]\tvalidation_0-error:0.088\tvalidation_1-error:0.524\n",
      "[46]\tvalidation_0-error:0.088\tvalidation_1-error:0.532\n",
      "[47]\tvalidation_0-error:0.085333\tvalidation_1-error:0.52\n",
      "[48]\tvalidation_0-error:0.08\tvalidation_1-error:0.536\n",
      "[49]\tvalidation_0-error:0.074667\tvalidation_1-error:0.54\n",
      "[50]\tvalidation_0-error:0.072\tvalidation_1-error:0.54\n",
      "[51]\tvalidation_0-error:0.069333\tvalidation_1-error:0.54\n",
      "[52]\tvalidation_0-error:0.072\tvalidation_1-error:0.536\n",
      "[53]\tvalidation_0-error:0.072\tvalidation_1-error:0.516\n",
      "[54]\tvalidation_0-error:0.069333\tvalidation_1-error:0.528\n",
      "[55]\tvalidation_0-error:0.065333\tvalidation_1-error:0.528\n",
      "[56]\tvalidation_0-error:0.062667\tvalidation_1-error:0.544\n",
      "[57]\tvalidation_0-error:0.057333\tvalidation_1-error:0.532\n",
      "[58]\tvalidation_0-error:0.056\tvalidation_1-error:0.532\n",
      "[59]\tvalidation_0-error:0.054667\tvalidation_1-error:0.528\n",
      "[60]\tvalidation_0-error:0.056\tvalidation_1-error:0.532\n",
      "[61]\tvalidation_0-error:0.06\tvalidation_1-error:0.528\n",
      "[62]\tvalidation_0-error:0.053333\tvalidation_1-error:0.536\n",
      "[63]\tvalidation_0-error:0.054667\tvalidation_1-error:0.548\n",
      "[64]\tvalidation_0-error:0.053333\tvalidation_1-error:0.548\n",
      "[65]\tvalidation_0-error:0.056\tvalidation_1-error:0.532\n",
      "[66]\tvalidation_0-error:0.052\tvalidation_1-error:0.524\n",
      "[67]\tvalidation_0-error:0.052\tvalidation_1-error:0.516\n",
      "[68]\tvalidation_0-error:0.050667\tvalidation_1-error:0.52\n",
      "[69]\tvalidation_0-error:0.048\tvalidation_1-error:0.528\n",
      "[70]\tvalidation_0-error:0.042667\tvalidation_1-error:0.512\n",
      "[71]\tvalidation_0-error:0.044\tvalidation_1-error:0.52\n",
      "[72]\tvalidation_0-error:0.041333\tvalidation_1-error:0.52\n",
      "[73]\tvalidation_0-error:0.041333\tvalidation_1-error:0.52\n",
      "[74]\tvalidation_0-error:0.041333\tvalidation_1-error:0.52\n",
      "[75]\tvalidation_0-error:0.037333\tvalidation_1-error:0.524\n",
      "[76]\tvalidation_0-error:0.038667\tvalidation_1-error:0.52\n",
      "[77]\tvalidation_0-error:0.038667\tvalidation_1-error:0.508\n",
      "[78]\tvalidation_0-error:0.036\tvalidation_1-error:0.508\n",
      "[79]\tvalidation_0-error:0.037333\tvalidation_1-error:0.5\n",
      "[80]\tvalidation_0-error:0.032\tvalidation_1-error:0.504\n",
      "[81]\tvalidation_0-error:0.033333\tvalidation_1-error:0.508\n",
      "[82]\tvalidation_0-error:0.034667\tvalidation_1-error:0.508\n",
      "[83]\tvalidation_0-error:0.032\tvalidation_1-error:0.504\n",
      "[84]\tvalidation_0-error:0.029333\tvalidation_1-error:0.496\n",
      "[85]\tvalidation_0-error:0.030667\tvalidation_1-error:0.504\n",
      "[86]\tvalidation_0-error:0.029333\tvalidation_1-error:0.5\n",
      "[87]\tvalidation_0-error:0.029333\tvalidation_1-error:0.508\n",
      "[88]\tvalidation_0-error:0.029333\tvalidation_1-error:0.516\n",
      "[89]\tvalidation_0-error:0.026667\tvalidation_1-error:0.5\n",
      "[90]\tvalidation_0-error:0.024\tvalidation_1-error:0.504\n",
      "[91]\tvalidation_0-error:0.021333\tvalidation_1-error:0.516\n",
      "[92]\tvalidation_0-error:0.022667\tvalidation_1-error:0.516\n",
      "[93]\tvalidation_0-error:0.025333\tvalidation_1-error:0.516\n",
      "[94]\tvalidation_0-error:0.025333\tvalidation_1-error:0.516\n",
      "[95]\tvalidation_0-error:0.024\tvalidation_1-error:0.512\n",
      "[96]\tvalidation_0-error:0.022667\tvalidation_1-error:0.516\n",
      "[97]\tvalidation_0-error:0.024\tvalidation_1-error:0.524\n",
      "[98]\tvalidation_0-error:0.022667\tvalidation_1-error:0.516\n",
      "[99]\tvalidation_0-error:0.024\tvalidation_1-error:0.508\n"
     ]
    },
    {
     "data": {
      "text/plain": [
       "XGBClassifier(base_score=0.5, booster='gbtree', colsample_bylevel=1,\n",
       "              colsample_bynode=1, colsample_bytree=1, gamma=0,\n",
       "              learning_rate=0.1, max_delta_step=0, max_depth=3,\n",
       "              min_child_weight=1, missing=None, n_estimators=100, n_jobs=1,\n",
       "              nthread=None, objective='binary:logistic', random_state=0,\n",
       "              reg_alpha=0, reg_lambda=1, scale_pos_weight=1, seed=None,\n",
       "              silent=None, subsample=1, verbosity=1)"
      ]
     },
     "execution_count": 9,
     "metadata": {},
     "output_type": "execute_result"
    }
   ],
   "source": [
    "# XGBoost\n",
    "XGB_clf = XGBClassifier()\n",
    "eval_set = [(X_train, y_train), (X_test, y_test)]\n",
    "XGB_clf.fit(X_train, y_train, eval_metric=\"error\", eval_set=eval_set)"
   ]
  },
  {
   "cell_type": "code",
   "execution_count": 10,
   "metadata": {},
   "outputs": [],
   "source": [
    "results = XGB_clf.evals_result()\n",
    "epochs = len(results['validation_0']['error'])\n",
    "x_axis = range(0, epochs)"
   ]
  },
  {
   "cell_type": "code",
   "execution_count": 21,
   "metadata": {
    "scrolled": true
   },
   "outputs": [
    {
     "data": {
      "image/png": "[encoded data removed]",
      "text/plain": [
       "<Figure size 432x288 with 1 Axes>"
      ]
     },
     "metadata": {
      "needs_background": "light"
     },
     "output_type": "display_data"
    }
   ],
   "source": [
    "#plot results\n",
    "from matplotlib import pyplot\n",
    "\n",
    "fig, ax = pyplot.subplots()\n",
    "ax.plot(x_axis, results['validation_0']['error'], 'b', label='Train')\n",
    "ax.plot(x_axis, results['validation_1']['error'], 'r', label='Test')\n",
    "ax.legend()\n",
    "pyplot.ylabel('Classification Error')\n",
    "pyplot.title('XGBoost Classification Error')\n",
    "pyplot.show()"
   ]
  },
  {
   "cell_type": "code",
   "execution_count": 12,
   "metadata": {},
   "outputs": [],
   "source": [
    "# DecisionTreeClassifier"
   ]
  },
  {
   "cell_type": "code",
   "execution_count": 13,
   "metadata": {},
   "outputs": [
    {
     "data": {
      "image/png": "[encoded data removed]",
      "text/plain": [
       "<Figure size 432x288 with 1 Axes>"
      ]
     },
     "metadata": {
      "needs_background": "light"
     },
     "output_type": "display_data"
    }
   ],
   "source": [
    "from sklearn.metrics import roc_curve, auc\n",
    "\n",
    "max_depths = np.linspace(1, 30, 30, endpoint=True)\n",
    "train_results = []\n",
    "test_results = []\n",
    "\n",
    "for max_depth in max_depths:\n",
    "    \n",
    "    dt_clf = DecisionTreeClassifier(criterion='entropy', max_depth=max_depth, random_state=1)\n",
    "    dt_clf.fit(X_train, y_train)\n",
    "    train_pred = dt_clf.predict(X_train)\n",
    "    false_positive_rate, true_positive_rate, thresholds = roc_curve(y_train, train_pred)\n",
    "    roc_auc = auc(false_positive_rate, true_positive_rate)\n",
    "    \n",
    "    # Add auc score to previous train results\n",
    "    train_results.append(roc_auc)\n",
    "    y_pred = dt_clf.predict(X_test)\n",
    "    false_positive_rate, true_positive_rate, thresholds = roc_curve(y_test, y_pred)\n",
    "    roc_auc = auc(false_positive_rate, true_positive_rate)\n",
    "    \n",
    "    # Add auc score to previous test results\n",
    "    test_results.append(roc_auc)\n",
    "    \n",
    "from matplotlib import pyplot\n",
    "\n",
    "fig, ax = pyplot.subplots()\n",
    "ax.plot(max_depths, train_results, 'b', label='Train AUC')\n",
    "ax.plot(max_depths, test_results, 'r', label='Test AUC')\n",
    "ax.legend()\n",
    "pyplot.ylabel('AUC score')\n",
    "pyplot.title('Tree depth')\n",
    "pyplot.show()"
   ]
  },
  {
   "cell_type": "code",
   "execution_count": null,
   "metadata": {},
   "outputs": [],
   "source": []
  },
  {
   "cell_type": "code",
   "execution_count": null,
   "metadata": {},
   "outputs": [],
   "source": []
  },
  {
   "cell_type": "code",
   "execution_count": null,
   "metadata": {},
   "outputs": [],
   "source": []
  },
  {
   "cell_type": "code",
   "execution_count": 14,
   "metadata": {},
   "outputs": [
    {
     "name": "stdout",
     "output_type": "stream",
     "text": [
      "roc_auc 0.482\n",
      "recall 0.442\n",
      "accuracy 0.484\n"
     ]
    }
   ],
   "source": [
    "from sklearn.metrics import roc_auc_score, accuracy_score, f1_score, recall_score\n",
    "\n",
    "print(\"roc_auc %.3f\" % roc_auc_score(y_test, y_pred))\n",
    "print(\"recall %.3f\" % recall_score(y_test, y_pred))\n",
    "print(\"accuracy %.3f\" % accuracy_score(y_test, y_pred))"
   ]
  },
  {
   "cell_type": "code",
   "execution_count": 15,
   "metadata": {},
   "outputs": [],
   "source": [
    "# DecisionTreeClassifier\n",
    "# roc_auc 0.467\n",
    "# recall 0.443\n",
    "# accuracy 0.468"
   ]
  },
  {
   "cell_type": "code",
   "execution_count": 16,
   "metadata": {},
   "outputs": [],
   "source": [
    "# BaggingClassifier\n",
    "# roc_auc 0.509\n",
    "# recall 0.377\n",
    "# accuracy 0.512"
   ]
  },
  {
   "cell_type": "code",
   "execution_count": 17,
   "metadata": {},
   "outputs": [],
   "source": [
    "# RandomForestClassifier\n",
    "# roc_auc 0.482\n",
    "# recall 0.410\n",
    "# accuracy 0.484"
   ]
  },
  {
   "cell_type": "code",
   "execution_count": 18,
   "metadata": {},
   "outputs": [],
   "source": [
    "# XGBClassifier\n",
    "# roc_auc 0.523\n",
    "# recall 0.467\n",
    "# accuracy 0.524"
   ]
  },
  {
   "cell_type": "code",
   "execution_count": 19,
   "metadata": {},
   "outputs": [],
   "source": [
    "# Support Vector Machines\n",
    "# roc_auc 0.520\n",
    "# recall 0.172\n",
    "# accuracy 0.528"
   ]
  },
  {
   "cell_type": "code",
   "execution_count": 20,
   "metadata": {},
   "outputs": [],
   "source": [
    "# KNN\n",
    "# roc_auc 0.430\n",
    "# recall 0.352\n",
    "# accuracy 0.432"
   ]
  },
  {
   "cell_type": "markdown",
   "metadata": {},
   "source": [
    "### Tuning"
   ]
  },
  {
   "cell_type": "code",
   "execution_count": 26,
   "metadata": {},
   "outputs": [],
   "source": [
    "from sklearn.model_selection import RandomizedSearchCV"
   ]
  },
  {
   "cell_type": "code",
   "execution_count": 27,
   "metadata": {},
   "outputs": [],
   "source": [
    "params = {\n",
    "    'eta': np.linspace(0,1,11),\n",
    "    'min_child_weight': np.linspace(1,10,51),\n",
    "    'alpha': np.linspace(0,2,21),\n",
    "    'max_depth': np.arange(1,11,1),  \n",
    "}"
   ]
  },
  {
   "cell_type": "code",
   "execution_count": 33,
   "metadata": {},
   "outputs": [],
   "source": [
    "rcv = RandomizedSearchCV(estimator=XGB_clf,\n",
    "                        param_distributions=params,\n",
    "                        cv=3,\n",
    "                        n_iter=12,\n",
    "                        n_jobs=-1,\n",
    "                        random_state=1,\n",
    "                        scoring=\"roc_auc\")"
   ]
  },
  {
   "cell_type": "code",
   "execution_count": 40,
   "metadata": {},
   "outputs": [],
   "source": [
    "rcv.fit(X_train, y_train);"
   ]
  },
  {
   "cell_type": "code",
   "execution_count": 41,
   "metadata": {},
   "outputs": [],
   "source": [
    "model = rcv.best_estimator_"
   ]
  },
  {
   "cell_type": "code",
   "execution_count": 42,
   "metadata": {},
   "outputs": [],
   "source": [
    "y_pred = model.predict(X_test)"
   ]
  },
  {
   "cell_type": "code",
   "execution_count": 43,
   "metadata": {},
   "outputs": [
    {
     "data": {
      "text/plain": [
       "XGBClassifier(alpha=1.7000000000000002, base_score=0.5, booster='gbtree',\n",
       "              colsample_bylevel=1, colsample_bynode=1, colsample_bytree=1,\n",
       "              eta=0.6000000000000001, gamma=0, learning_rate=0.1,\n",
       "              max_delta_step=0, max_depth=1, min_child_weight=4.24,\n",
       "              missing=None, n_estimators=100, n_jobs=1, nthread=None,\n",
       "              objective='binary:logistic', random_state=0, reg_alpha=0,\n",
       "              reg_lambda=1, scale_pos_weight=1, seed=None, silent=None,\n",
       "              subsample=1, verbosity=1)"
      ]
     },
     "execution_count": 43,
     "metadata": {},
     "output_type": "execute_result"
    }
   ],
   "source": [
    "model"
   ]
  },
  {
   "cell_type": "code",
   "execution_count": 44,
   "metadata": {},
   "outputs": [
    {
     "name": "stdout",
     "output_type": "stream",
     "text": [
      "roc_auc 0.465\n",
      "recall 0.400\n",
      "accuracy 0.468\n"
     ]
    }
   ],
   "source": [
    "print(\"roc_auc %.3f\" % roc_auc_score(y_test, y_pred))\n",
    "print(\"recall %.3f\" % recall_score(y_test, y_pred))\n",
    "print(\"accuracy %.3f\" % accuracy_score(y_test, y_pred))"
   ]
  },
  {
   "cell_type": "markdown",
   "metadata": {},
   "source": [
    "__without tuning__\n",
    "- roc_auc 0.519\n",
    "- recall 0.480\n",
    "- accuracy 0.520"
   ]
  },
  {
   "cell_type": "code",
   "execution_count": null,
   "metadata": {},
   "outputs": [],
   "source": []
  },
  {
   "cell_type": "code",
   "execution_count": null,
   "metadata": {},
   "outputs": [],
   "source": []
  },
  {
   "cell_type": "code",
   "execution_count": null,
   "metadata": {},
   "outputs": [],
   "source": []
  },
  {
   "cell_type": "code",
   "execution_count": null,
   "metadata": {},
   "outputs": [],
   "source": []
  },
  {
   "cell_type": "code",
   "execution_count": null,
   "metadata": {},
   "outputs": [],
   "source": []
  }
 ],
 "metadata": {
  "kernelspec": {
   "display_name": "Python 3",
   "language": "python",
   "name": "python3"
  },
  "language_info": {
   "codemirror_mode": {
    "name": "ipython",
    "version": 3
   },
   "file_extension": ".py",
   "mimetype": "text/x-python",
   "name": "python",
   "nbconvert_exporter": "python",
   "pygments_lexer": "ipython3",
   "version": "3.7.3"
  }
 },
 "nbformat": 4,
 "nbformat_minor": 2
}
